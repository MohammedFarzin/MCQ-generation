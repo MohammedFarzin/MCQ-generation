{
 "cells": [
  {
   "cell_type": "code",
   "execution_count": 2,
   "metadata": {},
   "outputs": [],
   "source": [
    "import os\n",
    "import json\n",
    "import pandas as pd\n",
    "import traceback"
   ]
  },
  {
   "cell_type": "code",
   "execution_count": 3,
   "metadata": {},
   "outputs": [],
   "source": [
    "# loading env variables\n",
    "from dotenv import  load_dotenv\n",
    "\n",
    "load_dotenv()\n",
    "\n",
    "KEY = os.getenv(\"OPENAI_API_KEY\")\n"
   ]
  },
  {
   "cell_type": "code",
   "execution_count": 4,
   "metadata": {},
   "outputs": [
    {
     "name": "stderr",
     "output_type": "stream",
     "text": [
      "d:\\Machine learning\\Generative AI\\MCQ generator\\env\\lib\\site-packages\\langchain_core\\_api\\deprecation.py:117: LangChainDeprecationWarning: The class `langchain_community.chat_models.openai.ChatOpenAI` was deprecated in langchain-community 0.0.10 and will be removed in 0.2.0. An updated version of the class exists in the langchain-openai package and should be used instead. To use it run `pip install -U langchain-openai` and import as `from langchain_openai import ChatOpenAI`.\n",
      "  warn_deprecated(\n"
     ]
    }
   ],
   "source": [
    "from langchain.chat_models import ChatOpenAI\n",
    "\n",
    "llm = ChatOpenAI(openai_api_key=KEY, model_name=\"gpt-3.5-turbo\", temperature=0.6)"
   ]
  },
  {
   "cell_type": "code",
   "execution_count": 5,
   "metadata": {},
   "outputs": [],
   "source": [
    "# Importing libraries\n",
    "from langchain.llms import OpenAI\n",
    "from langchain.prompts import PromptTemplate\n",
    "from langchain.chains import LLMChain, SequentialChain\n",
    "from langchain.callbacks import get_openai_callback\n",
    "import PyPDF2"
   ]
  },
  {
   "cell_type": "code",
   "execution_count": 6,
   "metadata": {},
   "outputs": [],
   "source": [
    "RESPONSE_JSON = {\n",
    "    \"1\": {\n",
    "        \"mcq\": \"multiple choice question\",\n",
    "        \"options\": {\n",
    "            \"a\": \"choice here\",\n",
    "            \"b\": \"choice here\",\n",
    "            \"c\": \"choice here\",\n",
    "            \"d\": \"choice here\",\n",
    "        },\n",
    "        \"correct\": \"correct answer\",\n",
    "    },\n",
    "    \"2\": {\n",
    "        \"mcq\": \"multiple choice question\",\n",
    "        \"options\": {\n",
    "            \"a\": \"choice here\",\n",
    "            \"b\": \"choice here\",\n",
    "            \"c\": \"choice here\",\n",
    "            \"d\": \"choice here\",\n",
    "        },\n",
    "        \"correct\": \"correct answer\",\n",
    "    },\n",
    "    \"3\": {\n",
    "        \"mcq\": \"multiple choice question\",\n",
    "        \"options\": {\n",
    "            \"a\": \"choice here\",\n",
    "            \"b\": \"choice here\",\n",
    "            \"c\": \"choice here\",\n",
    "            \"d\": \"choice here\",\n",
    "        },\n",
    "        \"correct\": \"correct answer\",\n",
    "    },\n",
    "}"
   ]
  },
  {
   "cell_type": "code",
   "execution_count": 7,
   "metadata": {},
   "outputs": [],
   "source": [
    "TEMPLATE_1 = \"\"\"\n",
    "You are an expert in MCQ generation. Please generate {number} multiple choice questions about {subject} subject from the delimited text by triple double quotes and question should in {tone} tone. \\\n",
    "\n",
    "Text to generate questions:\\\n",
    "{text}\n",
    "\n",
    "Please make sure that you don't forget about the question tone, it is really important to assess the student knowledge and exclude the delimiter.  If there is nothing related to {subject} subject then please show that \\\n",
    "\\\"There is no text related to {subject}\\\".\\\n",
    "\n",
    "Outputs should be in JSON  object following:\n",
    "{response_json}\n",
    "\n",
    "\"\"\"\n",
    "\n",
    "\n"
   ]
  },
  {
   "cell_type": "code",
   "execution_count": 8,
   "metadata": {},
   "outputs": [],
   "source": [
    "# Defining prompt template\n",
    "\n",
    "quiz_generation_prompt = PromptTemplate(\n",
    "    input_variables=[\"text\", \"number\", \"subject\", \"tone\", \"response_json\"],\n",
    "    template=TEMPLATE_1\n",
    ")"
   ]
  },
  {
   "cell_type": "code",
   "execution_count": 9,
   "metadata": {},
   "outputs": [],
   "source": [
    "quiz_chain = LLMChain(llm=llm, prompt=quiz_generation_prompt, output_key=\"quiz\", verbose=True)"
   ]
  },
  {
   "cell_type": "code",
   "execution_count": 10,
   "metadata": {},
   "outputs": [],
   "source": [
    "TEMPLATE_2 = \"\"\"\n",
    "You are experienced professor. You need to evaluate the complexity of multiple choice question delimited by triple double quotes and give a complete analysis of the quiz about {subject}.\\\n",
    "Only use maximum 50 words for complexity analysis. If the quiz is not suitable with the cognitive and analytical abilities of the {subject} students, update the quiz questions \\\n",
    "which needs to be changed and change the tone of the multiple choice questions such that perfectly aligns and fits the {subject} student abilities. Outputs should in JSON object \\\n",
    "that includes the following:\\\n",
    "keys: question, multiple choices, and correct answer\n",
    "\n",
    "Quiz multiple choice question:\n",
    "\\\"\\\"\\\"{quiz}\\\"\\\"\\\"\n",
    "\n",
    "Check from an {subject} expert that the question and answer is valid and correct.\n",
    "\"\"\""
   ]
  },
  {
   "cell_type": "code",
   "execution_count": 11,
   "metadata": {},
   "outputs": [],
   "source": [
    "quiz_evaluation_prompt = PromptTemplate(\n",
    "    input_variables=[\"quiz\", \"subject\"],\n",
    "    template = TEMPLATE_2\n",
    ")"
   ]
  },
  {
   "cell_type": "code",
   "execution_count": 12,
   "metadata": {},
   "outputs": [],
   "source": [
    "# Create chain to evaluate the quesitons in quiz\n",
    "quiz_evaluation_chain = LLMChain(llm=llm, prompt=quiz_evaluation_prompt, output_key=\"review\", verbose=True)"
   ]
  },
  {
   "cell_type": "code",
   "execution_count": 13,
   "metadata": {},
   "outputs": [],
   "source": [
    "# setting up the SequentialChain\n",
    "complete_quiz_chain = SequentialChain(\n",
    "    chains=[quiz_chain, quiz_evaluation_chain], \n",
    "    input_variables=[\"text\", \"number\", \"subject\", \"tone\", \"response_json\"], \n",
    "    output_variables=[\"quiz\", \"review\"],\n",
    "    verbose=True\n",
    " )"
   ]
  },
  {
   "cell_type": "code",
   "execution_count": 14,
   "metadata": {},
   "outputs": [],
   "source": [
    "# loading the text data\n",
    "file_path = '../data.txt'\n",
    "with open(file_path, 'r') as file:\n",
    "    TEXT = file.read()\n",
    "\n",
    "NUMBER = 10\n",
    "SUBJECT = 'Physics'\n",
    "TONE = 'Normal'"
   ]
  },
  {
   "cell_type": "code",
   "execution_count": 15,
   "metadata": {},
   "outputs": [
    {
     "name": "stderr",
     "output_type": "stream",
     "text": [
      "d:\\Machine learning\\Generative AI\\MCQ generator\\env\\lib\\site-packages\\langchain_core\\_api\\deprecation.py:117: LangChainDeprecationWarning: The function `__call__` was deprecated in LangChain 0.1.0 and will be removed in 0.2.0. Use invoke instead.\n",
      "  warn_deprecated(\n"
     ]
    },
    {
     "name": "stdout",
     "output_type": "stream",
     "text": [
      "\n",
      "\n",
      "\u001b[1m> Entering new SequentialChain chain...\u001b[0m\n",
      "\n",
      "\n",
      "\u001b[1m> Entering new LLMChain chain...\u001b[0m\n",
      "Prompt after formatting:\n",
      "\u001b[32;1m\u001b[1;3m\n",
      "You are an expert in MCQ generation. Please generate 10 multiple choice questions about Physics subject from the delimited text by triple double quotes and question should in Normal tone. \n",
      "Text to generate questions:In sixth-century Europe John Philoponus, a Byzantine scholar, questioned Aristotle's teaching of physics and noted its flaws. He introduced the theory of impetus. Aristotle's physics was not scrutinized until Philoponus appeared; unlike Aristotle, who based his physics on verbal argument, Philoponus relied on observation. On Aristotle's physics Philoponus wrote:\n",
      "\n",
      "But this is completely erroneous, and our view may be corroborated by actual observation more effectively than by any sort of verbal argument. For if you let fall from the same height two weights of which one is many times as heavy as the other, you will see that the ratio of the times required for the motion does not depend on the ratio of the weights, but that the difference in time is a very small one. And so, if the difference in the weights is not considerable, that is, of one is, let us say, double the other, there will be no difference, or else an imperceptible difference, in time, though the difference in weight is by no means negligible, with one body weighing twice as much as the other[19]\n",
      "\n",
      "Philoponus' criticism of Aristotelian principles of physics served as an inspiration for Galileo Galilei ten centuries later,[20] during the Scientific Revolution. Galileo cited Philoponus substantially in his works when arguing that Aristotelian physics was flawed.[21][22] In the 1300s Jean Buridan, a teacher in the faculty of arts at the University of Paris, developed the concept of impetus. It was a step toward the modern ideas of inertia and momentum.[23]\n",
      "\n",
      "Islamic scholarship inherited Aristotelian physics from the Greeks and during the Islamic Golden Age developed it further, especially placing emphasis on observation and a priori reasoning, developing early forms of the scientific method.\n",
      "\n",
      "Although Aristotle's principles of physics was criticized, it is important to identify the evidence off of which he based his views. When thinking of the history of science and math, it is notable to acknowledge the contributions made by older scientists. Aristotle's science was the backbone of the science taught in schools today. Aristotle published many biological works including The Parts of Animals, in which he discusses both biological science and natural science as well. It is also integral to mention the role Aristotle had in the progression of physics and metaphysics and how his beliefs and findings are still taught in science classes today. The explanations that Aristotle gives for his findings are also simple. When thinking of the elements, Aristotle believed that each element (earth, fire, water, air) had its own natural place.[24] Meaning that because of the density of these elements, they will revert to their own specific place in the atmosphere.[25] So, because of their weights, fire would be at the top, air underneath fire, then water, then lastly earth. He also stated that when a small amount of one element enters the natural place of another, the less abundant element will automatically go into its own natural place. For example, if there is a fire on the ground, the flames go up into the air as an attempt to go back into its natural place where it belongs. Aristotle called his metaphysics \"first philosophy\" and characterized it as the study of \"being as being\".[26] Aristotle defined the paradigm of motion as a being or entity encompassing different areas in the same body.[26] Meaning that if a person is at a location (A) they can move to a new location (B) and still take up the same amount of space. This is involved with Aristotle's belief that motion is a continuum. In terms of matter, Aristotle believed that the change in category (e.g. place) and quality (e.g. color) of an object is defined as \"alteration\". But, a change in substance is a change in matter. This is also similar to the idea of matter today.\n",
      "\n",
      "He also devised his own laws of motion that include 1) heavier objects will fall faster, the speed being proportional to the weight and 2) the speed of the object that is falling depends inversely on the density object it is falling through (e.g. density of air).[27] He also stated that, when it comes to violent motion (motion of an object when a force is applied to it by a second object) that the speed that object moves, will only be as fast or strong as the measure of force applied to it.[27] This is also seen in the rules of velocity and force that is taught in physics classes today. These rules are not necessarily what is described in physics today but, they are mostly similar. It is evident that these rules were the backbone for other scientists to revise and edit his beliefs.\n",
      "\n",
      "\n",
      "The basic way a pinhole camera works\n",
      "The most notable innovations under Islamic scholarship were in the field of optics and vision,[28] which came from the works of many scientists like Ibn Sahl, Al-Kindi, Ibn al-Haytham, Al-Farisi and Avicenna. The most notable work was The Book of Optics (also known as Kitāb al-Manāẓir), written by Ibn al-Haytham, in which he presented the alternative to the ancient Greek idea about vision.[citation needed] In his Treatise on Light as well as in his Kitāb al-Manāẓir, he presented a study of the phenomenon of the camera obscura (his thousand-year-old version of the pinhole camera) and delved further into the way the eye itself works. Using the knowledge of previous scholars, he began to explain how light enters the eye. He asserted that the light ray is focused, but the actual explanation of how light projected to the back of the eye had to wait until 1604. His Treatise on Light explained the camera obscura, hundreds of years before the modern development of photography.[29]\n",
      "\n",
      "The seven-volume Book of Optics (Kitab al-Manathir) influenced thinking[citation needed] across disciplines from the theory of visual perception to the nature of perspective in medieval art, in both the East and the West, for more than 600 years. This included later European scholars and fellow polymaths, from Robert Grosseteste and Leonardo da Vinci to Johannes Kepler.\n",
      "\n",
      "The translation of The Book of Optics had an impact on Europe. From it, later European scholars were able to build devices that replicated those Ibn al-Haytham had built and understand the way vision works.\n",
      "\n",
      "\n",
      "\n",
      "The development of physics has answered many questions of early philosophers and has raised new questions. Study of the philosophical issues surrounding physics, the philosophy of physics, involves issues such as the nature of space and time, determinism, and metaphysical outlooks such as empiricism, naturalism and realism.[42]\n",
      "\n",
      "Many physicists have written about the philosophical implications of their work, for instance Laplace, who championed causal determinism,[43] and Erwin Schrödinger, who wrote on quantum mechanics.[44][45] The mathematical physicist Roger Penrose has been called a Platonist by Stephen Hawking,[46] a view Penrose discusses in his book, The Road to Reality.[47] Hawking referred to himself as an \"unashamed reductionist\" and took issue with Penrose's views.[\n",
      "\n",
      "Please make sure that you don't forget about the question tone, it is really important to assess the student knowledge and exclude the delimiter.  If there is nothing related to Physics subject then please show that \"There is no text related to Physics\".\n",
      "Outputs should be in JSON  object following:\n",
      "{\"1\": {\"mcq\": \"multiple choice question\", \"options\": {\"a\": \"choice here\", \"b\": \"choice here\", \"c\": \"choice here\", \"d\": \"choice here\"}, \"correct\": \"correct answer\"}, \"2\": {\"mcq\": \"multiple choice question\", \"options\": {\"a\": \"choice here\", \"b\": \"choice here\", \"c\": \"choice here\", \"d\": \"choice here\"}, \"correct\": \"correct answer\"}, \"3\": {\"mcq\": \"multiple choice question\", \"options\": {\"a\": \"choice here\", \"b\": \"choice here\", \"c\": \"choice here\", \"d\": \"choice here\"}, \"correct\": \"correct answer\"}}\n",
      "\n",
      "\u001b[0m\n",
      "\n",
      "\u001b[1m> Finished chain.\u001b[0m\n",
      "\n",
      "\n",
      "\u001b[1m> Entering new LLMChain chain...\u001b[0m\n",
      "Prompt after formatting:\n",
      "\u001b[32;1m\u001b[1;3m\n",
      "You are experienced professor. You need to evaluate the complexity of multiple choice question delimited by triple double quotes and give a complete analysis of the quiz about Physics.Only use maximum 50 words for complexity analysis. If the quiz is not suitable with the cognitive and analytical abilities of the Physics students, update the quiz questions which needs to be changed and change the tone of the multiple choice questions such that perfectly aligns and fits the Physics student abilities. Outputs should in JSON object that includes the following:keys: question, multiple choices, and correct answer\n",
      "\n",
      "Quiz multiple choice question:\n",
      "\"\"\"{\n",
      "\"1\": {\n",
      "\"mcq\": \"What concept did John Philoponus introduce to criticize Aristotle's teaching of physics?\",\n",
      "\"options\": {\n",
      "\"a\": \"Impetus\",\n",
      "\"b\": \"Inertia\",\n",
      "\"c\": \"Gravity\",\n",
      "\"d\": \"Momentum\"\n",
      "},\n",
      "\"correct\": \"a\"\n",
      "},\n",
      "\"2\": {\n",
      "\"mcq\": \"Who cited Philoponus substantially in his works when arguing that Aristotelian physics was flawed?\",\n",
      "\"options\": {\n",
      "\"a\": \"Galileo Galilei\",\n",
      "\"b\": \"Jean Buridan\",\n",
      "\"c\": \"Ibn Sahl\",\n",
      "\"d\": \"Avicenna\"\n",
      "},\n",
      "\"correct\": \"a\"\n",
      "},\n",
      "\"3\": {\n",
      "\"mcq\": \"Which Islamic scholar presented a study of the phenomenon of the camera obscura, similar to a pinhole camera?\",\n",
      "\"options\": {\n",
      "\"a\": \"Ibn Sahl\",\n",
      "\"b\": \"Al-Kindi\",\n",
      "\"c\": \"Ibn al-Haytham\",\n",
      "\"d\": \"Al-Farisi\"\n",
      "},\n",
      "\"correct\": \"c\"\n",
      "},\n",
      "\"4\": {\n",
      "\"mcq\": \"What was the most notable work by Ibn al-Haytham that presented the alternative to the ancient Greek idea about vision?\",\n",
      "\"options\": {\n",
      "\"a\": \"The Book of Optics\",\n",
      "\"b\": \"The Parts of Animals\",\n",
      "\"c\": \"The Road to Reality\",\n",
      "\"d\": \"The Book of Optics\"\n",
      "},\n",
      "\"correct\": \"a\"\n",
      "},\n",
      "\"5\": {\n",
      "\"mcq\": \"Which physicist championed causal determinism and wrote about the philosophical implications of his work?\",\n",
      "\"options\": {\n",
      "\"a\": \"Laplace\",\n",
      "\"b\": \"Erwin Schrödinger\",\n",
      "\"c\": \"Roger Penrose\",\n",
      "\"d\": \"Stephen Hawking\"\n",
      "},\n",
      "\"correct\": \"a\"\n",
      "},\n",
      "\"6\": {\n",
      "\"mcq\": \"What did Aristotle believe was the natural place of fire in the atmosphere?\",\n",
      "\"options\": {\n",
      "\"a\": \"At the bottom\",\n",
      "\"b\": \"Above water\",\n",
      "\"c\": \"Above air\",\n",
      "\"d\": \"At the top\"\n",
      "},\n",
      "\"correct\": \"d\"\n",
      "},\n",
      "\"7\": {\n",
      "\"mcq\": \"According to Aristotle, what will happen when a small amount of one element enters the natural place of another element?\",\n",
      "\"options\": {\n",
      "\"a\": \"The elements will combine\",\n",
      "\"b\": \"The less abundant element will move to its natural place\",\n",
      "\"c\": \"The more abundant element will move to its natural place\",\n",
      "\"d\": \"Both elements will evaporate\"\n",
      "},\n",
      "\"correct\": \"b\"\n",
      "},\n",
      "\"8\": {\n",
      "\"mcq\": \"What did Aristotle define as 'first philosophy' and characterize as the study of 'being as being'?\",\n",
      "\"options\": {\n",
      "\"a\": \"Physics\",\n",
      "\"b\": \"Metaphysics\",\n",
      "\"c\": \"Biology\",\n",
      "\"d\": \"Chemistry\"\n",
      "},\n",
      "\"correct\": \"b\"\n",
      "},\n",
      "\"9\": {\n",
      "\"mcq\": \"What were the two laws of motion that Aristotle devised?\",\n",
      "\"options\": {\n",
      "\"a\": \"Objects of different weights fall at the same speed\",\n",
      "\"b\": \"Speed of falling objects depends on density of object\",\n",
      "\"c\": \"Speed of falling objects depends on shape of object\",\n",
      "\"d\": \"Objects in motion will never stop\"\n",
      "},\n",
      "\"correct\": \"b\"\n",
      "},\n",
      "\"10\": {\n",
      "\"mcq\": \"Who referred to himself as an 'unashamed reductionist' and took issue with Roger Penrose's views?\",\n",
      "\"options\": {\n",
      "\"a\": \"Laplace\",\n",
      "\"b\": \"Erwin Schrödinger\",\n",
      "\"c\": \"Roger Penrose\",\n",
      "\"d\": \"Stephen Hawking\"\n",
      "},\n",
      "\"correct\": \"d\"\n",
      "}\n",
      "}\"\"\"\n",
      "\n",
      "Check from an Physics expert that the question and answer is valid and correct.\n",
      "\u001b[0m\n",
      "\n",
      "\u001b[1m> Finished chain.\u001b[0m\n",
      "\n",
      "\u001b[1m> Finished chain.\u001b[0m\n"
     ]
    }
   ],
   "source": [
    "# Setup token usage tracking in langchain\n",
    "\n",
    "with get_openai_callback() as cb:\n",
    "    response = complete_quiz_chain(\n",
    "        {\n",
    "            \"text\": TEXT,\n",
    "            \"number\": NUMBER,\n",
    "            \"subject\": SUBJECT,\n",
    "            \"tone\": TONE,\n",
    "            \"response_json\": json.dumps(RESPONSE_JSON)\n",
    "        }\n",
    "    )"
   ]
  },
  {
   "cell_type": "code",
   "execution_count": 16,
   "metadata": {},
   "outputs": [],
   "source": [
    "quiz=response.get(\"quiz\")\n",
    "quiz=json.loads(quiz)\n"
   ]
  },
  {
   "cell_type": "code",
   "execution_count": 17,
   "metadata": {},
   "outputs": [],
   "source": [
    "import pandas as pd\n",
    "\n",
    "quiz_table_data = []\n",
    "for key, value in quiz.items():\n",
    "    mcq = value[\"mcq\"]\n",
    "    options = \" | \".join(\n",
    "        [\n",
    "            f\"{option}: {option_value}\"\n",
    "            for option, option_value in value[\"options\"].items()\n",
    "            ]\n",
    "        )\n",
    "    correct = value[\"correct\"]\n",
    "    quiz_table_data.append({\"MCQ\": mcq, \"Choices\": options, \"Correct\": correct})\n",
    "\n",
    "quiz=pd.DataFrame(quiz_table_data)\n"
   ]
  },
  {
   "cell_type": "code",
   "execution_count": 18,
   "metadata": {},
   "outputs": [],
   "source": [
    "quiz.to_csv(f\"{SUBJECT}.csv\",index=False)\n"
   ]
  },
  {
   "cell_type": "code",
   "execution_count": null,
   "metadata": {},
   "outputs": [],
   "source": []
  }
 ],
 "metadata": {
  "kernelspec": {
   "display_name": "Python 3",
   "language": "python",
   "name": "python3"
  },
  "language_info": {
   "codemirror_mode": {
    "name": "ipython",
    "version": 3
   },
   "file_extension": ".py",
   "mimetype": "text/x-python",
   "name": "python",
   "nbconvert_exporter": "python",
   "pygments_lexer": "ipython3",
   "version": "3.10.13"
  }
 },
 "nbformat": 4,
 "nbformat_minor": 2
}
