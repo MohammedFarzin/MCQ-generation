{
 "cells": [
  {
   "cell_type": "code",
   "execution_count": 1,
   "metadata": {},
   "outputs": [],
   "source": [
    "import os\n",
    "import json\n",
    "import pandas as pd\n",
    "import traceback"
   ]
  },
  {
   "cell_type": "code",
   "execution_count": 2,
   "metadata": {},
   "outputs": [],
   "source": [
    "# loading env variables\n",
    "from dotenv import  load_dotenv\n",
    "\n",
    "load_dotenv()\n",
    "\n",
    "KEY = os.getenv(\"OPENAI_API_KEY\")\n"
   ]
  },
  {
   "cell_type": "code",
   "execution_count": 3,
   "metadata": {},
   "outputs": [
    {
     "name": "stderr",
     "output_type": "stream",
     "text": [
      "d:\\Machine learning\\Generative AI\\MCQ generator\\env\\lib\\site-packages\\langchain_core\\_api\\deprecation.py:117: LangChainDeprecationWarning: The class `langchain_community.chat_models.openai.ChatOpenAI` was deprecated in langchain-community 0.0.10 and will be removed in 0.2.0. An updated version of the class exists in the langchain-openai package and should be used instead. To use it run `pip install -U langchain-openai` and import as `from langchain_openai import ChatOpenAI`.\n",
      "  warn_deprecated(\n"
     ]
    }
   ],
   "source": [
    "from langchain.chat_models import ChatOpenAI\n",
    "\n",
    "llm = ChatOpenAI(openai_api_key=KEY, model_name=\"gpt-3.5-turbo\", temperature=0.6)"
   ]
  },
  {
   "cell_type": "code",
   "execution_count": 4,
   "metadata": {},
   "outputs": [],
   "source": [
    "# Importing libraries\n",
    "from langchain.llms import OpenAI\n",
    "from langchain.prompts import PromptTemplate\n",
    "from langchain.chains import LLMChain, SequentialChain\n",
    "from langchain.callbacks import get_openai_callback\n",
    "import PyPDF2"
   ]
  },
  {
   "cell_type": "code",
   "execution_count": 5,
   "metadata": {},
   "outputs": [],
   "source": [
    "RESPONSE_JSON = {\n",
    "    \"1\": {\n",
    "        \"mcq\": \"multiple choice question\",\n",
    "        \"options\": {\n",
    "            \"a\": \"choice here\",\n",
    "            \"b\": \"choice here\",\n",
    "            \"c\": \"choice here\",\n",
    "            \"d\": \"choice here\",\n",
    "        },\n",
    "        \"correct\": \"correct answer\",\n",
    "    },\n",
    "    \"2\": {\n",
    "        \"mcq\": \"multiple choice question\",\n",
    "        \"options\": {\n",
    "            \"a\": \"choice here\",\n",
    "            \"b\": \"choice here\",\n",
    "            \"c\": \"choice here\",\n",
    "            \"d\": \"choice here\",\n",
    "        },\n",
    "        \"correct\": \"correct answer\",\n",
    "    },\n",
    "    \"3\": {\n",
    "        \"mcq\": \"multiple choice question\",\n",
    "        \"options\": {\n",
    "            \"a\": \"choice here\",\n",
    "            \"b\": \"choice here\",\n",
    "            \"c\": \"choice here\",\n",
    "            \"d\": \"choice here\",\n",
    "        },\n",
    "        \"correct\": \"correct answer\",\n",
    "    },\n",
    "}"
   ]
  },
  {
   "cell_type": "code",
   "execution_count": 6,
   "metadata": {},
   "outputs": [],
   "source": [
    "TEMPLATE_1 = \"\"\"\n",
    "You are an expert in MCQ generation. Please generate {number} multiple choice questions about {subject} subject from the delimited text by triple double quotes and question should in {tone} tone. \\\n",
    "\n",
    "Text to generate questions:\\\n",
    "{text}\n",
    "\n",
    "Please make sure that you don't forget about the question tone, it is really important to assess the student knowledge and exclude the delimiter.  If there is nothing related to {subject} subject then please show that \\\n",
    "\\\"There is no text related to {subject}\\\".\\\n",
    "\n",
    "Outputs should be in JSON  object following:\n",
    "{response_json}\n",
    "\n",
    "\"\"\"\n",
    "\n",
    "\n"
   ]
  },
  {
   "cell_type": "code",
   "execution_count": 7,
   "metadata": {},
   "outputs": [],
   "source": [
    "# Defining prompt template\n",
    "\n",
    "quiz_generation_prompt = PromptTemplate(\n",
    "    input_variables=[\"text\", \"number\", \"subject\", \"tone\", \"response_json\"],\n",
    "    template=TEMPLATE_1\n",
    ")"
   ]
  },
  {
   "cell_type": "code",
   "execution_count": 8,
   "metadata": {},
   "outputs": [],
   "source": [
    "quiz_chain = LLMChain(llm=llm, prompt=quiz_generation_prompt, output_key=\"quiz\", verbose=True)"
   ]
  },
  {
   "cell_type": "code",
   "execution_count": 9,
   "metadata": {},
   "outputs": [],
   "source": [
    "TEMPLATE_2 = \"\"\"\n",
    "You are experienced professor. You need to evaluate the complexity of multiple choice question delimited by triple double quotes and give a complete analysis of the quiz about {subject}.\\\n",
    "Only use maximum 50 words for complexity analysis. If the quiz is not suitable with the cognitive and analytical abilities of the {subject} students, update the quiz questions \\\n",
    "which needs to be changed and change the tone of the multiple choice questions such that perfectly aligns and fits the {subject} student abilities. Outputs should in JSON object \\\n",
    "that includes the following:\\\n",
    "keys: question, multiple choices, and correct answer\n",
    "\n",
    "Quiz multiple choice question:\n",
    "\\\"\\\"\\\"{quiz}\\\"\\\"\\\"\n",
    "\n",
    "Check from an {subject} expert that the question and answer is valid and correct.\n",
    "\"\"\""
   ]
  },
  {
   "cell_type": "code",
   "execution_count": 10,
   "metadata": {},
   "outputs": [],
   "source": [
    "quiz_evaluation_prompt = PromptTemplate(\n",
    "    input_variables=[\"quiz\", \"subject\"],\n",
    "    template = TEMPLATE_2\n",
    ")"
   ]
  },
  {
   "cell_type": "code",
   "execution_count": 11,
   "metadata": {},
   "outputs": [],
   "source": [
    "# Create chain to evaluate the quesitons in quiz\n",
    "quiz_evaluation_chain = LLMChain(llm=llm, prompt=quiz_evaluation_prompt, output_key=\"review\", verbose=True)"
   ]
  },
  {
   "cell_type": "code",
   "execution_count": 12,
   "metadata": {},
   "outputs": [],
   "source": [
    "# setting up the SequentialChain\n",
    "complete_quiz_chain = SequentialChain(\n",
    "    chains=[quiz_chain, quiz_evaluation_chain], \n",
    "    input_variables=[\"text\", \"number\", \"subject\", \"tone\", \"response_json\"], \n",
    "    output_variables=[\"quiz\", \"review\"],\n",
    "    verbose=True\n",
    " )"
   ]
  },
  {
   "cell_type": "code",
   "execution_count": 13,
   "metadata": {},
   "outputs": [],
   "source": [
    "# loading the text data\n",
    "file_path = '../data.txt'\n",
    "with open(file_path, 'r') as file:\n",
    "    TEXT = file.read()\n",
    "\n",
    "NUMBER = 10\n",
    "SUBJECT = 'Physics'\n",
    "TONE = 'Normal'"
   ]
  },
  {
   "cell_type": "code",
   "execution_count": 14,
   "metadata": {},
   "outputs": [
    {
     "name": "stderr",
     "output_type": "stream",
     "text": [
      "d:\\Machine learning\\Generative AI\\MCQ generator\\env\\lib\\site-packages\\langchain_core\\_api\\deprecation.py:117: LangChainDeprecationWarning: The function `__call__` was deprecated in LangChain 0.1.0 and will be removed in 0.2.0. Use invoke instead.\n",
      "  warn_deprecated(\n"
     ]
    },
    {
     "name": "stdout",
     "output_type": "stream",
     "text": [
      "\n",
      "\n",
      "\u001b[1m> Entering new SequentialChain chain...\u001b[0m\n",
      "\n",
      "\n",
      "\u001b[1m> Entering new LLMChain chain...\u001b[0m\n",
      "Prompt after formatting:\n",
      "\u001b[32;1m\u001b[1;3m\n",
      "You are an expert in MCQ generation. Please generate 10 multiple choice questions about Physics subject from the delimited text by triple double quotes and question should in Normal tone. \n",
      "Text to generate questions:In sixth-century Europe John Philoponus, a Byzantine scholar, questioned Aristotle's teaching of physics and noted its flaws. He introduced the theory of impetus. Aristotle's physics was not scrutinized until Philoponus appeared; unlike Aristotle, who based his physics on verbal argument, Philoponus relied on observation. On Aristotle's physics Philoponus wrote:\n",
      "\n",
      "\n",
      "Please make sure that you don't forget about the question tone, it is really important to assess the student knowledge and exclude the delimiter.  If there is nothing related to Physics subject then please show that \"There is no text related to Physics\".\n",
      "Outputs should be in JSON  object following:\n",
      "{\"1\": {\"mcq\": \"multiple choice question\", \"options\": {\"a\": \"choice here\", \"b\": \"choice here\", \"c\": \"choice here\", \"d\": \"choice here\"}, \"correct\": \"correct answer\"}, \"2\": {\"mcq\": \"multiple choice question\", \"options\": {\"a\": \"choice here\", \"b\": \"choice here\", \"c\": \"choice here\", \"d\": \"choice here\"}, \"correct\": \"correct answer\"}, \"3\": {\"mcq\": \"multiple choice question\", \"options\": {\"a\": \"choice here\", \"b\": \"choice here\", \"c\": \"choice here\", \"d\": \"choice here\"}, \"correct\": \"correct answer\"}}\n",
      "\n",
      "\u001b[0m\n",
      "\n",
      "\u001b[1m> Finished chain.\u001b[0m\n",
      "\n",
      "\n",
      "\u001b[1m> Entering new LLMChain chain...\u001b[0m\n",
      "Prompt after formatting:\n",
      "\u001b[32;1m\u001b[1;3m\n",
      "You are experienced professor. You need to evaluate the complexity of multiple choice question delimited by triple double quotes and give a complete analysis of the quiz about Physics.Only use maximum 50 words for complexity analysis. If the quiz is not suitable with the cognitive and analytical abilities of the Physics students, update the quiz questions which needs to be changed and change the tone of the multiple choice questions such that perfectly aligns and fits the Physics student abilities. Outputs should in JSON object that includes the following:keys: question, multiple choices, and correct answer\n",
      "\n",
      "Quiz multiple choice question:\n",
      "\"\"\"{\"1\": {\"mcq\": \"Who questioned Aristotle's teaching of physics in sixth-century Europe?\", \"options\": {\"a\": \"John Philoponus\", \"b\": \"Galileo Galilei\", \"c\": \"Isaac Newton\", \"d\": \"Albert Einstein\"}, \"correct\": \"a\"}, \n",
      "\"2\": {\"mcq\": \"What theory did John Philoponus introduce?\", \"options\": {\"a\": \"Gravity\", \"b\": \"Impetus\", \"c\": \"Electromagnetism\", \"d\": \"Quantum Mechanics\"}, \"correct\": \"b\"}, \n",
      "\"3\": {\"mcq\": \"How did Philoponus rely on for his physics theories?\", \"options\": {\"a\": \"Verbal argument\", \"b\": \"Observation\", \"c\": \"Mathematical equations\", \"d\": \"Experimentation\"}, \"correct\": \"b\"}, \n",
      "\"4\": {\"mcq\": \"What did Philoponus base his physics on?\", \"options\": {\"a\": \"Mathematical equations\", \"b\": \"Observation\", \"c\": \"Verbal argument\", \"d\": \"Experimentation\"}, \"correct\": \"b\"}, \n",
      "\"5\": {\"mcq\": \"What flaw did Philoponus note in Aristotle's teaching of physics?\", \"options\": {\"a\": \"Lack of experimentation\", \"b\": \"Inaccurate observations\", \"c\": \"Relying on verbal argument\", \"d\": \"Ignoring mathematics\"}, \"correct\": \"c\"}, \n",
      "\"6\": {\"mcq\": \"What did Aristotle base his physics on?\", \"options\": {\"a\": \"Observation\", \"b\": \"Mathematical equations\", \"c\": \"Verbal argument\", \"d\": \"Experimentation\"}, \"correct\": \"c\"}, \n",
      "\"7\": {\"mcq\": \"What did Philoponus introduce to explain the motion of objects?\", \"options\": {\"a\": \"Impetus\", \"b\": \"Gravity\", \"c\": \"Friction\", \"d\": \"Momentum\"}, \"correct\": \"a\"}, \n",
      "\"8\": {\"mcq\": \"In what century did John Philoponus question Aristotle's teaching of physics?\", \"options\": {\"a\": \"Fifth\", \"b\": \"Sixth\", \"c\": \"Seventh\", \"d\": \"Eighth\"}, \"correct\": \"b\"}, \n",
      "\"9\": {\"mcq\": \"What did Aristotle's physics theory lack according to Philoponus?\", \"options\": {\"a\": \"Observation\", \"b\": \"Experimentation\", \"c\": \"Mathematics\", \"d\": \"Impetus\"}, \"correct\": \"a\"}, \n",
      "\"10\": {\"mcq\": \"What did Philoponus rely on instead of verbal argument for his physics theories?\", \"options\": {\"a\": \"Observation\", \"b\": \"Mathematical equations\", \"c\": \"Experimentation\", \"d\": \"Intuition\"}, \"correct\": \"a\"}}\"\"\"\n",
      "\n",
      "Check from an Physics expert that the question and answer is valid and correct.\n",
      "\u001b[0m\n",
      "\n",
      "\u001b[1m> Finished chain.\u001b[0m\n",
      "\n",
      "\u001b[1m> Finished chain.\u001b[0m\n"
     ]
    }
   ],
   "source": [
    "# Setup token usage tracking in langchain\n",
    "\n",
    "with get_openai_callback() as cb:\n",
    "    response = complete_quiz_chain(\n",
    "        {\n",
    "            \"text\": TEXT,\n",
    "            \"number\": NUMBER,\n",
    "            \"subject\": SUBJECT,\n",
    "            \"tone\": TONE,\n",
    "            \"response_json\": json.dumps(RESPONSE_JSON)\n",
    "        }\n",
    "    )"
   ]
  },
  {
   "cell_type": "code",
   "execution_count": 15,
   "metadata": {},
   "outputs": [],
   "source": [
    "quiz=response.get(\"quiz\")\n",
    "quiz=json.loads(quiz)\n"
   ]
  },
  {
   "cell_type": "code",
   "execution_count": 16,
   "metadata": {},
   "outputs": [],
   "source": [
    "import pandas as pd\n",
    "\n",
    "quiz_table_data = []\n",
    "for key, value in quiz.items():\n",
    "    mcq = value[\"mcq\"]\n",
    "    options = \" | \".join(\n",
    "        [\n",
    "            f\"{option}: {option_value}\"\n",
    "            for option, option_value in value[\"options\"].items()\n",
    "            ]\n",
    "        )\n",
    "    correct = value[\"correct\"]\n",
    "    quiz_table_data.append({\"MCQ\": mcq, \"Choices\": options, \"Correct\": correct})\n",
    "\n",
    "quiz=pd.DataFrame(quiz_table_data)\n"
   ]
  },
  {
   "cell_type": "code",
   "execution_count": 18,
   "metadata": {},
   "outputs": [
    {
     "data": {
      "text/html": [
       "<div>\n",
       "<style scoped>\n",
       "    .dataframe tbody tr th:only-of-type {\n",
       "        vertical-align: middle;\n",
       "    }\n",
       "\n",
       "    .dataframe tbody tr th {\n",
       "        vertical-align: top;\n",
       "    }\n",
       "\n",
       "    .dataframe thead th {\n",
       "        text-align: right;\n",
       "    }\n",
       "</style>\n",
       "<table border=\"1\" class=\"dataframe\">\n",
       "  <thead>\n",
       "    <tr style=\"text-align: right;\">\n",
       "      <th></th>\n",
       "      <th>MCQ</th>\n",
       "      <th>Choices</th>\n",
       "      <th>Correct</th>\n",
       "    </tr>\n",
       "  </thead>\n",
       "  <tbody>\n",
       "    <tr>\n",
       "      <th>0</th>\n",
       "      <td>Who questioned Aristotle's teaching of physics...</td>\n",
       "      <td>a: John Philoponus | b: Galileo Galilei | c: I...</td>\n",
       "      <td>a</td>\n",
       "    </tr>\n",
       "    <tr>\n",
       "      <th>1</th>\n",
       "      <td>What theory did John Philoponus introduce?</td>\n",
       "      <td>a: Gravity | b: Impetus | c: Electromagnetism ...</td>\n",
       "      <td>b</td>\n",
       "    </tr>\n",
       "    <tr>\n",
       "      <th>2</th>\n",
       "      <td>How did Philoponus rely on for his physics the...</td>\n",
       "      <td>a: Verbal argument | b: Observation | c: Mathe...</td>\n",
       "      <td>b</td>\n",
       "    </tr>\n",
       "    <tr>\n",
       "      <th>3</th>\n",
       "      <td>What did Philoponus base his physics on?</td>\n",
       "      <td>a: Mathematical equations | b: Observation | c...</td>\n",
       "      <td>b</td>\n",
       "    </tr>\n",
       "    <tr>\n",
       "      <th>4</th>\n",
       "      <td>What flaw did Philoponus note in Aristotle's t...</td>\n",
       "      <td>a: Lack of experimentation | b: Inaccurate obs...</td>\n",
       "      <td>c</td>\n",
       "    </tr>\n",
       "    <tr>\n",
       "      <th>5</th>\n",
       "      <td>What did Aristotle base his physics on?</td>\n",
       "      <td>a: Observation | b: Mathematical equations | c...</td>\n",
       "      <td>c</td>\n",
       "    </tr>\n",
       "    <tr>\n",
       "      <th>6</th>\n",
       "      <td>What did Philoponus introduce to explain the m...</td>\n",
       "      <td>a: Impetus | b: Gravity | c: Friction | d: Mom...</td>\n",
       "      <td>a</td>\n",
       "    </tr>\n",
       "    <tr>\n",
       "      <th>7</th>\n",
       "      <td>In what century did John Philoponus question A...</td>\n",
       "      <td>a: Fifth | b: Sixth | c: Seventh | d: Eighth</td>\n",
       "      <td>b</td>\n",
       "    </tr>\n",
       "    <tr>\n",
       "      <th>8</th>\n",
       "      <td>What did Aristotle's physics theory lack accor...</td>\n",
       "      <td>a: Observation | b: Experimentation | c: Mathe...</td>\n",
       "      <td>a</td>\n",
       "    </tr>\n",
       "    <tr>\n",
       "      <th>9</th>\n",
       "      <td>What did Philoponus rely on instead of verbal ...</td>\n",
       "      <td>a: Observation | b: Mathematical equations | c...</td>\n",
       "      <td>a</td>\n",
       "    </tr>\n",
       "  </tbody>\n",
       "</table>\n",
       "</div>"
      ],
      "text/plain": [
       "                                                 MCQ  \\\n",
       "0  Who questioned Aristotle's teaching of physics...   \n",
       "1         What theory did John Philoponus introduce?   \n",
       "2  How did Philoponus rely on for his physics the...   \n",
       "3           What did Philoponus base his physics on?   \n",
       "4  What flaw did Philoponus note in Aristotle's t...   \n",
       "5            What did Aristotle base his physics on?   \n",
       "6  What did Philoponus introduce to explain the m...   \n",
       "7  In what century did John Philoponus question A...   \n",
       "8  What did Aristotle's physics theory lack accor...   \n",
       "9  What did Philoponus rely on instead of verbal ...   \n",
       "\n",
       "                                             Choices Correct  \n",
       "0  a: John Philoponus | b: Galileo Galilei | c: I...       a  \n",
       "1  a: Gravity | b: Impetus | c: Electromagnetism ...       b  \n",
       "2  a: Verbal argument | b: Observation | c: Mathe...       b  \n",
       "3  a: Mathematical equations | b: Observation | c...       b  \n",
       "4  a: Lack of experimentation | b: Inaccurate obs...       c  \n",
       "5  a: Observation | b: Mathematical equations | c...       c  \n",
       "6  a: Impetus | b: Gravity | c: Friction | d: Mom...       a  \n",
       "7       a: Fifth | b: Sixth | c: Seventh | d: Eighth       b  \n",
       "8  a: Observation | b: Experimentation | c: Mathe...       a  \n",
       "9  a: Observation | b: Mathematical equations | c...       a  "
      ]
     },
     "execution_count": 18,
     "metadata": {},
     "output_type": "execute_result"
    }
   ],
   "source": [
    "quiz"
   ]
  },
  {
   "cell_type": "code",
   "execution_count": 17,
   "metadata": {},
   "outputs": [],
   "source": [
    "quiz.to_csv(f\"{SUBJECT}.csv\",index=False)\n"
   ]
  },
  {
   "cell_type": "code",
   "execution_count": null,
   "metadata": {},
   "outputs": [],
   "source": []
  }
 ],
 "metadata": {
  "kernelspec": {
   "display_name": "Python 3",
   "language": "python",
   "name": "python3"
  },
  "language_info": {
   "codemirror_mode": {
    "name": "ipython",
    "version": 3
   },
   "file_extension": ".py",
   "mimetype": "text/x-python",
   "name": "python",
   "nbconvert_exporter": "python",
   "pygments_lexer": "ipython3",
   "version": "3.10.13"
  }
 },
 "nbformat": 4,
 "nbformat_minor": 2
}
